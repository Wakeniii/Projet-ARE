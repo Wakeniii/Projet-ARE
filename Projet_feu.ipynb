{
 "cells": [
  {
   "cell_type": "markdown",
   "metadata": {},
   "source": [
    "On importe tout d'abord les librairies dont nous avons besoin pour le programme."
   ]
  },
  {
   "cell_type": "code",
   "execution_count": 18,
   "metadata": {},
   "outputs": [],
   "source": [
    "%matplotlib notebook\n",
    "import matplotlib.pyplot\n",
    "import numpy as np\n",
    "from matplotlib import animation"
   ]
  },
  {
   "cell_type": "markdown",
   "metadata": {},
   "source": [
    "Ici, on initialise les couleurs que l'on souhaites utilisé pour notre simulation."
   ]
  },
  {
   "cell_type": "code",
   "execution_count": 19,
   "metadata": {},
   "outputs": [],
   "source": [
    "import matplotlib\n",
    "cmap = matplotlib.colors.ListedColormap([\"black\",\"green\",\"orange\",\"grey\"])"
   ]
  },
  {
   "cell_type": "markdown",
   "metadata": {},
   "source": [
    "Cette fonction sert à la création de la forêt, c'est elle qui va placé nos éléments dans la matrice: \n",
    "\n",
    "-les arbres\n",
    "\n",
    "-et les roches."
   ]
  },
  {
   "cell_type": "code",
   "execution_count": 20,
   "metadata": {},
   "outputs": [],
   "source": [
    "def hasard(p):\n",
    "    \"\"\"renvoie True avec une probabilite p et False avec une probabilité 1-p\"\"\"\n",
    "    r = np.random.random()  # on prend au hasard un nombre entre 0 et 1\n",
    "    assert 0 <= p <= 1  # verifions que p est dans [0,1]\n",
    "    return r <= p  # si n<=p (une proba p) on retourne True sinon on retourne False (une proba 1-p)"
   ]
  },
  {
   "cell_type": "markdown",
   "metadata": {},
   "source": [
    "Ici, on crée la matrice foret. A l'aide d'une boucle for, on va remplire toute les cases de la matrice foret en fonction d'un proba p. Si la fonction hasard revoie **True** alors on place un arbre, sinon on place de la roche."
   ]
  },
  {
   "cell_type": "code",
   "execution_count": 21,
   "metadata": {},
   "outputs": [],
   "source": [
    "def creerForet(n, m, pcoccup):\n",
    "    \"\"\"cree une foret avec des arbres places aleatoirements\"\"\"\n",
    "    foret = np.zeros((n, m))  # on cree un matrice n*m de zeros\n",
    "    for i in range(n):\n",
    "        for j in range(m):\n",
    "            if hasard(pcoccup):\n",
    "                foret[i, j] = 1.  # si on une proba p alors il y a un arbre\n",
    "            else:\n",
    "                foret[i, j] = 0.  # sinon il n'y a pas d'arbre\n",
    "    return foret"
   ]
  },
  {
   "cell_type": "markdown",
   "metadata": {},
   "source": [
    "Dans cette fonction on cherche à démarrer le feu. Ici on prend un point de la matrice aléatoirement; à l'aide de la boucle while on vérifie que le feu ne démarre pas sur un point où il y a de la roche, et dès que l'on trouve une case enflamable on y met le feu."
   ]
  },
  {
   "cell_type": "code",
   "execution_count": 22,
   "metadata": {},
   "outputs": [],
   "source": [
    "def mettreLeFeu(foret):\n",
    "    \"\"\"met le feu a un arbre\"\"\"\n",
    "    n, m = foret.shape\n",
    "    i = int((n-1)*np.random.random())\n",
    "    j = int((m-1)*np.random.random())\n",
    "    while foret[i, j] != 2.:\n",
    "        if foret[i, j] == 1.:\n",
    "            foret[i, j] = 2.  # on met le feu la case d'indice (i,j)\n",
    "        else:\n",
    "            i = int((n-1)*np.random.random())\n",
    "            j = int((m-1)*np.random.random())\n",
    "    return foret"
   ]
  },
  {
   "cell_type": "markdown",
   "metadata": {},
   "source": [
    "Cette fonction, analyse les cases autours(la case en haut, en bas, à gauche et à droite) de la case déjà enflammé. Si la case est enflammable alors on return True, sinon False."
   ]
  },
  {
   "cell_type": "code",
   "execution_count": 23,
   "metadata": {},
   "outputs": [],
   "source": [
    "def peutBrulerSansVent(foret, i, j):\n",
    "    \"\"\"verifie si l'arbre d'indice (i,j) est a proximite d'un arbre en feu\"\"\"\n",
    "    n, m = foret.shape  # n et m respectivement le nombre de lignes et de colonnes\n",
    "    if foret[i, j] == 1.:\n",
    "        for y in range(max(0, i - 1), min(n, i + 2)):  # bord haut et bas\n",
    "            if foret[y, j] == 2.:\n",
    "                return True\n",
    "        for x in range(max(0, j - 1), min(m, j + 2)):  # bord gauche et droit\n",
    "            if foret[i, x] == 2.:\n",
    "                return True\n",
    "    return False"
   ]
  },
  {
   "cell_type": "code",
   "execution_count": null,
   "metadata": {},
   "outputs": [],
   "source": []
  },
  {
   "cell_type": "code",
   "execution_count": null,
   "metadata": {},
   "outputs": [],
   "source": [
    "def propageFeu(foret):\n",
    "    \"\"\"les arbres qui peuvent bruler autour d'un arbre en feu prennent feu\n",
    "    \"\"\"\n",
    "    n, m = foret.shape  # n et m respectivement le nombre de lignes et de colonnes\n",
    "    c = np.copy(foret)\n",
    "    for i in range(n):\n",
    "        for j in range(m):\n",
    "            if peutBrulerSansVent(c, i, j):\n",
    "                foret[i, j] = 2.\n",
    "    for i in range(n):\n",
    "        for j in range(m):\n",
    "            r = np.random.random()\n",
    "            if c[i, j] == 2. and r < 0.5:\n",
    "                foret[i, j] = 3.\n",
    "    return foret"
   ]
  },
  {
   "cell_type": "code",
   "execution_count": null,
   "metadata": {},
   "outputs": [],
   "source": [
    "def auFeu(foret):\n",
    "    \"\"\"verifie si au moins un arbre non en feu peut bruler\"\"\"\n",
    "    n, m = foret.shape\n",
    "    for i in range(n):\n",
    "        for j in range(m):\n",
    "            if peutBrulerSansVent(foret, i, j) or foret[i, j] == 2.:\n",
    "                return True\n",
    "    return False"
   ]
  },
  {
   "cell_type": "code",
   "execution_count": null,
   "metadata": {},
   "outputs": [],
   "source": [
    "def metFeuForet(foret):\n",
    "    \"\"\"met le feu et propage l'incendie jusqu'a ce que tous les arbres qui peuvent bruler soient en feu\"\"\"\n",
    "    foret = mettreLeFeu(foret)\n",
    "    while auFeu(foret):\n",
    "        foret = propageFeu(foret)\n",
    "    return foret"
   ]
  },
  {
   "cell_type": "code",
   "execution_count": 16,
   "metadata": {},
   "outputs": [],
   "source": [
    "def animationFeu(foret,cmap=None):\n",
    "    fig = matplotlib.pyplot.figure()  # nouvelle figure\n",
    "    film = []\n",
    "    # Initialisation\n",
    "    foretFeu = mettreLeFeu(foret)\n",
    "    film.append([matplotlib.pyplot.matshow(foret, fignum=False, cmap=cmap, animated=True)])\n",
    "    #matplotlib.pyplot.draw()  # mise a jour en temps reel du contenu des figures\n",
    "\n",
    "    while auFeu(foret):\n",
    "        foretFeu = propageFeu(foretFeu)\n",
    "        film.append([matplotlib.pyplot.matshow(foretFeu, fignum=False,cmap=cmap, animated=True)])\n",
    "        #matplotlib.pyplot.draw()  # mise a jour en temps reel du contenu des figures\n",
    "\n",
    "    ani = animation.ArtistAnimation(fig, film, interval=1000, blit=True, repeat_delay=100)\n",
    "    #matplotlib.pyplot.draw()  # mise a jour en temps reel du contenu des figures\n",
    "    #matplotlib.pyplot.show()\n",
    "    return ani\n"
   ]
  },
  {
   "cell_type": "code",
   "execution_count": null,
   "metadata": {},
   "outputs": [],
   "source": [
    "def peutbrulervent_nord(foret,i, j):\n",
    "    \n",
    "    if foret[i-1,]\n",
    "    \n",
    "    \n",
    "    \n",
    "    \n",
    "    \n",
    "    \n",
    "    "
   ]
  }
 ],
 "metadata": {
  "kernelspec": {
   "display_name": "Python 3",
   "language": "python",
   "name": "python3"
  },
  "language_info": {
   "codemirror_mode": {
    "name": "ipython",
    "version": 3
   },
   "file_extension": ".py",
   "mimetype": "text/x-python",
   "name": "python",
   "nbconvert_exporter": "python",
   "pygments_lexer": "ipython3",
   "version": "3.5.3"
  }
 },
 "nbformat": 4,
 "nbformat_minor": 2
}
